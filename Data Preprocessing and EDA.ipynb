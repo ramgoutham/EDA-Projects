{
 "cells": [
  {
   "cell_type": "markdown",
   "metadata": {},
   "source": [
    "<h1 class=\"list-group-item list-group-item-action active\" data-toggle=\"list\"  role=\"tab\" aria-controls=\"home\">Exploratory Data Analysis Mini Project </h1>\n",
    "     \n"
   ]
  },
  {
   "cell_type": "code",
   "execution_count": 1,
   "metadata": {},
   "outputs": [],
   "source": [
    "import seaborn as sns\n",
    "import matplotlib.pyplot as plt\n",
    "import numpy as np\n",
    "import pandas as pd "
   ]
  },
  {
   "cell_type": "markdown",
   "metadata": {},
   "source": [
    "<h4 class=\"list-group-item list-group-item-action active\" >1. DESCRIPTIVE STATISTICS</h4>\n",
    "\n",
    ">#### 1. Create a dataframe using below data and answer the below questions:\n",
    "\n",
    "        Hourly_Income = [1000,2009,24418,444478,324235,243242,3434234,7567457,9235,238237,1312,3412]\n",
    "        Hourly_Expense =  [651361,217371,2746,2356,13436,5732,346346,3463,1132,23534,242235,235235]\n",
    "        family_members_count = [3,4,2,3,1,4,5,6,3,6,3,5]\n",
    "        House_rent = [1299,2300,3411,3422,4566,4211,4600,736,672,0,734,2374]\n",
    "        Highest_income_Member = [\"Olivia\",\"George\",\"Isla\",\"Harry\",\"Ava\",\"Noah\",\"Sophia\",\"Jacobi\",\"Freddie\",\"Ella\",\"Grace\",\"Ella\"]\n",
    "        \n",
    "        \n",
    ">##### A. Display the five point summary of the data. \n",
    ">##### B. What is the mean of the hourly expense?\n",
    ">##### C. What is the median of the hourly expense?\n",
    ">##### D. Find the family member with maximum income and using a suitable graph.\n",
    ">##### E. Calculate IQR(the difference between 75% and 25% quartile) for `Hourly_Income` and `Hourly_Expense`.\n",
    ">##### F. Calculate the standard deviation for first 2 columns.\n",
    ">##### G. Calculate variance for the first 4 columns"
   ]
  },
  {
   "cell_type": "code",
   "execution_count": 2,
   "metadata": {},
   "outputs": [
    {
     "name": "stdout",
     "output_type": "stream",
     "text": [
      "    Hourly_Income  Hourly_Expense  family_members_count  House_rent  \\\n",
      "0            1000          651361                     3        1299   \n",
      "1            2009          217371                     4        2300   \n",
      "2           24418            2746                     2        3411   \n",
      "3          444478            2356                     3        3422   \n",
      "4          324235           13436                     1        4566   \n",
      "5          243242            5732                     4        4211   \n",
      "6         3434234          346346                     5        4600   \n",
      "7         7567457            3463                     6         736   \n",
      "8            9235            1132                     3         672   \n",
      "9          238237           23534                     6           0   \n",
      "10           1312          242235                     3         734   \n",
      "11           3412          235235                     5        2374   \n",
      "\n",
      "   Highest_income_Member  \n",
      "0                 Olivia  \n",
      "1                 George  \n",
      "2                   Isla  \n",
      "3                  Harry  \n",
      "4                    Ava  \n",
      "5                   Noah  \n",
      "6                 Sophia  \n",
      "7                 Jacobi  \n",
      "8                Freddie  \n",
      "9                   Ella  \n",
      "10                 Grace  \n",
      "11                  Ella  \n"
     ]
    }
   ],
   "source": [
    "given_data ={'Hourly_Income' :[1000,2009,24418,444478,324235,243242,3434234,7567457,9235,238237,1312,3412] , \n",
    "                 \"Hourly_Expense\" :[651361,217371,2746,2356,13436,5732,346346,3463,1132,23534,242235,235235],\n",
    "                 'family_members_count' :[3,4,2,3,1,4,5,6,3,6,3,5],\n",
    "                 'House_rent' :[1299,2300,3411,3422,4566,4211,4600,736,672,0,734,2374],\n",
    "                 'Highest_income_Member' : [\"Olivia\",\"George\",\"Isla\",\"Harry\",\"Ava\",\"Noah\",\"Sophia\",\"Jacobi\",\"Freddie\",\"Ella\",\"Grace\",\"Ella\"]}\n",
    "my_df = pd.DataFrame(given_data)\n",
    "print(my_df)"
   ]
  },
  {
   "cell_type": "code",
   "execution_count": 3,
   "metadata": {},
   "outputs": [
    {
     "name": "stdout",
     "output_type": "stream",
     "text": [
      "Sorted :\n",
      " None\n",
      "Min :\n",
      " Hourly_Income            1000\n",
      "Hourly_Expense           1132\n",
      "family_members_count        1\n",
      "House_rent                  0\n",
      "Highest_income_Member     Ava\n",
      "dtype: object\n",
      "Max :\n",
      " Hourly_Income            7567457\n",
      "Hourly_Expense            651361\n",
      "family_members_count           6\n",
      "House_rent                  4600\n",
      "Highest_income_Member     Sophia\n",
      "dtype: object\n",
      "Q1 :\n",
      " Hourly_Income           3061.25\n",
      "Hourly_Expense          3283.75\n",
      "family_members_count       3.00\n",
      "House_rent               735.50\n",
      "Name: 0.25, dtype: float64\n",
      "Q3 :\n",
      " Hourly_Income           354295.75\n",
      "Hourly_Expense          236985.00\n",
      "family_members_count         5.00\n",
      "House_rent                3619.25\n",
      "Name: 0.75, dtype: float64\n",
      "Median :\n",
      " Hourly_Income           131327.5\n",
      "Hourly_Expense           18485.0\n",
      "family_members_count         3.5\n",
      "House_rent                2337.0\n",
      "dtype: float64\n"
     ]
    }
   ],
   "source": [
    "#a)\n",
    "Q1  = my_df.quantile(0.25)\n",
    "Q3  = my_df.quantile(0.75)\n",
    "print(\"Sorted :\\n\" , my_df.sort_values(by=['Hourly_Income'] , inplace = True))\n",
    "print(\"Min :\\n\" , my_df.min()) \n",
    "print(\"Max :\\n\" , my_df.max())\n",
    "print(\"Q1 :\\n\",Q1)\n",
    "print(\"Q3 :\\n\",Q3)\n",
    "print(\"Median :\\n\" , my_df.median())"
   ]
  },
  {
   "cell_type": "code",
   "execution_count": 4,
   "metadata": {},
   "outputs": [
    {
     "name": "stdout",
     "output_type": "stream",
     "text": [
      "Mean for Hourly exp : 145412.25\n"
     ]
    }
   ],
   "source": [
    "#b)\n",
    "print(\"Mean for Hourly exp :\" ,my_df['Hourly_Expense'].mean())"
   ]
  },
  {
   "cell_type": "code",
   "execution_count": 5,
   "metadata": {},
   "outputs": [
    {
     "name": "stdout",
     "output_type": "stream",
     "text": [
      "Median for Hourly exp  : 18485.0\n"
     ]
    }
   ],
   "source": [
    "#c)\n",
    "print(\"Median for Hourly exp  :\" ,my_df['Hourly_Expense'].median())"
   ]
  },
  {
   "cell_type": "code",
   "execution_count": 11,
   "metadata": {},
   "outputs": [
    {
     "name": "stdout",
     "output_type": "stream",
     "text": [
      "Maximum income - Family member : 7567457\n"
     ]
    },
    {
     "data": {
      "image/png": "[encoded data removed]",
      "text/plain": [
       "<Figure size 432x288 with 1 Axes>"
      ]
     },
     "metadata": {
      "needs_background": "light"
     },
     "output_type": "display_data"
    },
    {
     "data": {
      "text/plain": [
       "<Figure size 1080x360 with 0 Axes>"
      ]
     },
     "metadata": {},
     "output_type": "display_data"
    }
   ],
   "source": [
    "#d)\n",
    "print(\"Maximum income - Family member :\" ,my_df['Hourly_Income'].max())\n",
    "my_df1 = sns.barplot(y='Hourly_Income' ,x='Highest_income_Member' , data = my_df)\n",
    "plt.figure(figsize=(15,5))\n",
    "plt.show()"
   ]
  },
  {
   "cell_type": "code",
   "execution_count": 12,
   "metadata": {},
   "outputs": [
    {
     "data": {
      "text/plain": [
       "Hourly_Income     351234.50\n",
       "Hourly_Expense    233701.25\n",
       "dtype: float64"
      ]
     },
     "execution_count": 12,
     "metadata": {},
     "output_type": "execute_result"
    }
   ],
   "source": [
    "#e)\n",
    "def IQRCALC(x):\n",
    "    return np.subtract(*np.percentile(x,[75,25]))\n",
    "my_df[['Hourly_Income' ,  'Hourly_Expense']].apply(IQRCALC)"
   ]
  },
  {
   "cell_type": "code",
   "execution_count": 13,
   "metadata": {},
   "outputs": [
    {
     "name": "stdout",
     "output_type": "stream",
     "text": [
      "Std for Hourly_Income : 2274082.74970641\n",
      "Std for Hourly_Expense : 2274082.74970641\n"
     ]
    }
   ],
   "source": [
    "#f)\n",
    "print(\"Std for Hourly_Income :\" ,my_df['Hourly_Income'].std())\n",
    "print(\"Std for Hourly_Expense :\" ,my_df['Hourly_Income'].std())"
   ]
  },
  {
   "cell_type": "code",
   "execution_count": 14,
   "metadata": {},
   "outputs": [
    {
     "data": {
      "text/plain": [
       "Hourly_Income           5.171452e+12\n",
       "Hourly_Expense          4.114064e+10\n",
       "family_members_count    2.386364e+00\n",
       "House_rent              2.761127e+06\n",
       "dtype: float64"
      ]
     },
     "execution_count": 14,
     "metadata": {},
     "output_type": "execute_result"
    }
   ],
   "source": [
    "#g)\n",
    "my_df.iloc[:,:4].var()"
   ]
  },
  {
   "cell_type": "markdown",
   "metadata": {},
   "source": [
    "<h4 class=\"list-group-item list-group-item-action active\" >2. Preliminary Wrangling,</h4>\n",
    "\n",
    ">### Dataset Information: \n",
    "\n",
    "Dataset recording people to invest in each other in a way that is financially and socially rewarding. On loans, borrowers list loan requests between $ 2,000 and $ 35,000 and individual investors invest as little as $ 25 in each loan listing they select. Prosper handles the servicing of the loan on behalf of the matched borrowers and investors.\n",
    "\n",
    "\n",
    "\n",
    "\n",
    ">#### A. Read the dataset called Pri-Load.csv\n",
    ">#### B.  Check the data type and adjust datatype for all other categorical columns.\n",
    ">#### C. If you find any of the missing values in the ProsperRating column, then drop it.\n",
    "\n"
   ]
  },
  {
   "cell_type": "code",
   "execution_count": 15,
   "metadata": {},
   "outputs": [],
   "source": [
    "my_df2 = pd.read_csv('Pri-Load.csv')"
   ]
  },
  {
   "cell_type": "code",
   "execution_count": 16,
   "metadata": {},
   "outputs": [
    {
     "data": {
      "text/html": [
       "<div>\n",
       "<style scoped>\n",
       "    .dataframe tbody tr th:only-of-type {\n",
       "        vertical-align: middle;\n",
       "    }\n",
       "\n",
       "    .dataframe tbody tr th {\n",
       "        vertical-align: top;\n",
       "    }\n",
       "\n",
       "    .dataframe thead th {\n",
       "        text-align: right;\n",
       "    }\n",
       "</style>\n",
       "<table border=\"1\" class=\"dataframe\">\n",
       "  <thead>\n",
       "    <tr style=\"text-align: right;\">\n",
       "      <th></th>\n",
       "      <th>ListingCreationDate</th>\n",
       "      <th>Term</th>\n",
       "      <th>LoanStatus</th>\n",
       "      <th>ClosedDate</th>\n",
       "      <th>BorrowerAPR</th>\n",
       "      <th>BorrowerRate</th>\n",
       "      <th>LenderYield</th>\n",
       "      <th>ProsperRating (Alpha)</th>\n",
       "      <th>ProsperScore</th>\n",
       "      <th>ListingCategory (numeric)</th>\n",
       "      <th>...</th>\n",
       "      <th>EmploymentStatus</th>\n",
       "      <th>AmountDelinquent</th>\n",
       "      <th>StatedMonthlyIncome</th>\n",
       "      <th>LoanCurrentDaysDelinquent</th>\n",
       "      <th>LoanOriginalAmount</th>\n",
       "      <th>LoanOriginationDate</th>\n",
       "      <th>LoanOriginationQuarter</th>\n",
       "      <th>MonthlyLoanPayment</th>\n",
       "      <th>LP_InterestandFees</th>\n",
       "      <th>Investors</th>\n",
       "    </tr>\n",
       "  </thead>\n",
       "  <tbody>\n",
       "    <tr>\n",
       "      <th>0</th>\n",
       "      <td>2007-08-26 19:09:29.263000000</td>\n",
       "      <td>36</td>\n",
       "      <td>Completed</td>\n",
       "      <td>14-08-2009 0.00</td>\n",
       "      <td>0.16516</td>\n",
       "      <td>0.1580</td>\n",
       "      <td>0.1380</td>\n",
       "      <td>NaN</td>\n",
       "      <td>NaN</td>\n",
       "      <td>0</td>\n",
       "      <td>...</td>\n",
       "      <td>Self-employed</td>\n",
       "      <td>472.0</td>\n",
       "      <td>3083.333333</td>\n",
       "      <td>0</td>\n",
       "      <td>9425</td>\n",
       "      <td>12-09-2007 0.00</td>\n",
       "      <td>Q3 2007</td>\n",
       "      <td>330.43</td>\n",
       "      <td>1971.14</td>\n",
       "      <td>258</td>\n",
       "    </tr>\n",
       "    <tr>\n",
       "      <th>1</th>\n",
       "      <td>2014-02-27 08:28:07.900000000</td>\n",
       "      <td>36</td>\n",
       "      <td>Current</td>\n",
       "      <td>NaN</td>\n",
       "      <td>0.12016</td>\n",
       "      <td>0.0920</td>\n",
       "      <td>0.0820</td>\n",
       "      <td>A</td>\n",
       "      <td>7.0</td>\n",
       "      <td>2</td>\n",
       "      <td>...</td>\n",
       "      <td>Employed</td>\n",
       "      <td>0.0</td>\n",
       "      <td>6125.000000</td>\n",
       "      <td>0</td>\n",
       "      <td>10000</td>\n",
       "      <td>03-03-2014 0.00</td>\n",
       "      <td>Q1 2014</td>\n",
       "      <td>318.93</td>\n",
       "      <td>0.00</td>\n",
       "      <td>1</td>\n",
       "    </tr>\n",
       "    <tr>\n",
       "      <th>2</th>\n",
       "      <td>2007-01-05 15:00:47.090000000</td>\n",
       "      <td>36</td>\n",
       "      <td>Completed</td>\n",
       "      <td>17-12-2009 0.00</td>\n",
       "      <td>0.28269</td>\n",
       "      <td>0.2750</td>\n",
       "      <td>0.2400</td>\n",
       "      <td>NaN</td>\n",
       "      <td>NaN</td>\n",
       "      <td>0</td>\n",
       "      <td>...</td>\n",
       "      <td>Not available</td>\n",
       "      <td>NaN</td>\n",
       "      <td>2083.333333</td>\n",
       "      <td>0</td>\n",
       "      <td>3001</td>\n",
       "      <td>17-01-2007 0.00</td>\n",
       "      <td>Q1 2007</td>\n",
       "      <td>123.32</td>\n",
       "      <td>1185.63</td>\n",
       "      <td>41</td>\n",
       "    </tr>\n",
       "    <tr>\n",
       "      <th>3</th>\n",
       "      <td>2012-10-22 11:02:35.010000000</td>\n",
       "      <td>36</td>\n",
       "      <td>Current</td>\n",
       "      <td>NaN</td>\n",
       "      <td>0.12528</td>\n",
       "      <td>0.0974</td>\n",
       "      <td>0.0874</td>\n",
       "      <td>A</td>\n",
       "      <td>9.0</td>\n",
       "      <td>16</td>\n",
       "      <td>...</td>\n",
       "      <td>Employed</td>\n",
       "      <td>10056.0</td>\n",
       "      <td>2875.000000</td>\n",
       "      <td>0</td>\n",
       "      <td>10000</td>\n",
       "      <td>01-11-2012 0.00</td>\n",
       "      <td>Q4 2012</td>\n",
       "      <td>321.45</td>\n",
       "      <td>1052.11</td>\n",
       "      <td>158</td>\n",
       "    </tr>\n",
       "    <tr>\n",
       "      <th>4</th>\n",
       "      <td>2013-09-14 18:38:39.097000000</td>\n",
       "      <td>36</td>\n",
       "      <td>Current</td>\n",
       "      <td>NaN</td>\n",
       "      <td>0.24614</td>\n",
       "      <td>0.2085</td>\n",
       "      <td>0.1985</td>\n",
       "      <td>D</td>\n",
       "      <td>4.0</td>\n",
       "      <td>2</td>\n",
       "      <td>...</td>\n",
       "      <td>Employed</td>\n",
       "      <td>0.0</td>\n",
       "      <td>9583.333333</td>\n",
       "      <td>0</td>\n",
       "      <td>15000</td>\n",
       "      <td>20-09-2013 0.00</td>\n",
       "      <td>Q3 2013</td>\n",
       "      <td>563.97</td>\n",
       "      <td>1256.63</td>\n",
       "      <td>20</td>\n",
       "    </tr>\n",
       "  </tbody>\n",
       "</table>\n",
       "<p>5 rows × 22 columns</p>\n",
       "</div>"
      ],
      "text/plain": [
       "             ListingCreationDate  Term LoanStatus       ClosedDate  \\\n",
       "0  2007-08-26 19:09:29.263000000    36  Completed  14-08-2009 0.00   \n",
       "1  2014-02-27 08:28:07.900000000    36    Current              NaN   \n",
       "2  2007-01-05 15:00:47.090000000    36  Completed  17-12-2009 0.00   \n",
       "3  2012-10-22 11:02:35.010000000    36    Current              NaN   \n",
       "4  2013-09-14 18:38:39.097000000    36    Current              NaN   \n",
       "\n",
       "   BorrowerAPR  BorrowerRate  LenderYield ProsperRating (Alpha)  ProsperScore  \\\n",
       "0      0.16516        0.1580       0.1380                   NaN           NaN   \n",
       "1      0.12016        0.0920       0.0820                     A           7.0   \n",
       "2      0.28269        0.2750       0.2400                   NaN           NaN   \n",
       "3      0.12528        0.0974       0.0874                     A           9.0   \n",
       "4      0.24614        0.2085       0.1985                     D           4.0   \n",
       "\n",
       "   ListingCategory (numeric)  ... EmploymentStatus AmountDelinquent  \\\n",
       "0                          0  ...    Self-employed            472.0   \n",
       "1                          2  ...         Employed              0.0   \n",
       "2                          0  ...    Not available              NaN   \n",
       "3                         16  ...         Employed          10056.0   \n",
       "4                          2  ...         Employed              0.0   \n",
       "\n",
       "  StatedMonthlyIncome  LoanCurrentDaysDelinquent  LoanOriginalAmount  \\\n",
       "0         3083.333333                          0                9425   \n",
       "1         6125.000000                          0               10000   \n",
       "2         2083.333333                          0                3001   \n",
       "3         2875.000000                          0               10000   \n",
       "4         9583.333333                          0               15000   \n",
       "\n",
       "   LoanOriginationDate  LoanOriginationQuarter MonthlyLoanPayment  \\\n",
       "0      12-09-2007 0.00                 Q3 2007             330.43   \n",
       "1      03-03-2014 0.00                 Q1 2014             318.93   \n",
       "2      17-01-2007 0.00                 Q1 2007             123.32   \n",
       "3      01-11-2012 0.00                 Q4 2012             321.45   \n",
       "4      20-09-2013 0.00                 Q3 2013             563.97   \n",
       "\n",
       "  LP_InterestandFees  Investors  \n",
       "0            1971.14        258  \n",
       "1               0.00          1  \n",
       "2            1185.63         41  \n",
       "3            1052.11        158  \n",
       "4            1256.63         20  \n",
       "\n",
       "[5 rows x 22 columns]"
      ]
     },
     "execution_count": 16,
     "metadata": {},
     "output_type": "execute_result"
    }
   ],
   "source": [
    "#a)\n",
    "my_df2.head()\n"
   ]
  },
  {
   "cell_type": "code",
   "execution_count": 17,
   "metadata": {},
   "outputs": [
    {
     "name": "stdout",
     "output_type": "stream",
     "text": [
      "ListingCreationDate           object\n",
      "Term                           int64\n",
      "LoanStatus                    object\n",
      "ClosedDate                    object\n",
      "BorrowerAPR                  float64\n",
      "BorrowerRate                 float64\n",
      "LenderYield                  float64\n",
      "ProsperRating (Alpha)         object\n",
      "ProsperScore                 float64\n",
      "ListingCategory (numeric)      int64\n",
      "BorrowerState                 object\n",
      "Occupation                    object\n",
      "EmploymentStatus              object\n",
      "AmountDelinquent             float64\n",
      "StatedMonthlyIncome          float64\n",
      "LoanCurrentDaysDelinquent      int64\n",
      "LoanOriginalAmount             int64\n",
      "LoanOriginationDate           object\n",
      "LoanOriginationQuarter        object\n",
      "MonthlyLoanPayment           float64\n",
      "LP_InterestandFees           float64\n",
      "Investors                      int64\n",
      "dtype: object\n",
      "0    category\n",
      "dtype: object\n"
     ]
    }
   ],
   "source": [
    "#b)\n",
    "print(my_df2.dtypes)\n",
    "mydf_category = ['LoanStatus' , 'EmploymentStatus' ,'LoanOriginationQuarter']\n",
    "mydf2_cat = pd.DataFrame(mydf_category)\n",
    "mydf2_cat = mydf2_cat.astype('category')\n",
    "print(mydf2_cat.dtypes)"
   ]
  },
  {
   "cell_type": "code",
   "execution_count": 18,
   "metadata": {},
   "outputs": [
    {
     "name": "stdout",
     "output_type": "stream",
     "text": [
      "Missing value : 252\n",
      "             ListingCreationDate  Term LoanStatus       ClosedDate  \\\n",
      "0  2007-08-26 19:09:29.263000000    36  Completed  14-08-2009 0.00   \n",
      "1  2014-02-27 08:28:07.900000000    36    Current              NaN   \n",
      "2  2007-01-05 15:00:47.090000000    36  Completed  17-12-2009 0.00   \n",
      "3  2012-10-22 11:02:35.010000000    36    Current              NaN   \n",
      "4  2013-09-14 18:38:39.097000000    36    Current              NaN   \n",
      "\n",
      "   BorrowerAPR  BorrowerRate  LenderYield  ProsperScore  \\\n",
      "0      0.16516        0.1580       0.1380           NaN   \n",
      "1      0.12016        0.0920       0.0820           7.0   \n",
      "2      0.28269        0.2750       0.2400           NaN   \n",
      "3      0.12528        0.0974       0.0874           9.0   \n",
      "4      0.24614        0.2085       0.1985           4.0   \n",
      "\n",
      "   ListingCategory (numeric) BorrowerState  ... EmploymentStatus  \\\n",
      "0                          0            CO  ...    Self-employed   \n",
      "1                          2            CO  ...         Employed   \n",
      "2                          0            GA  ...    Not available   \n",
      "3                         16            GA  ...         Employed   \n",
      "4                          2            MN  ...         Employed   \n",
      "\n",
      "  AmountDelinquent  StatedMonthlyIncome  LoanCurrentDaysDelinquent  \\\n",
      "0            472.0          3083.333333                          0   \n",
      "1              0.0          6125.000000                          0   \n",
      "2              NaN          2083.333333                          0   \n",
      "3          10056.0          2875.000000                          0   \n",
      "4              0.0          9583.333333                          0   \n",
      "\n",
      "   LoanOriginalAmount  LoanOriginationDate LoanOriginationQuarter  \\\n",
      "0                9425      12-09-2007 0.00                Q3 2007   \n",
      "1               10000      03-03-2014 0.00                Q1 2014   \n",
      "2                3001      17-01-2007 0.00                Q1 2007   \n",
      "3               10000      01-11-2012 0.00                Q4 2012   \n",
      "4               15000      20-09-2013 0.00                Q3 2013   \n",
      "\n",
      "  MonthlyLoanPayment  LP_InterestandFees  Investors  \n",
      "0             330.43             1971.14        258  \n",
      "1             318.93                0.00          1  \n",
      "2             123.32             1185.63         41  \n",
      "3             321.45             1052.11        158  \n",
      "4             563.97             1256.63         20  \n",
      "\n",
      "[5 rows x 21 columns]\n"
     ]
    }
   ],
   "source": [
    "#c)\n",
    "x = my_df2['ProsperRating (Alpha)'].isnull().sum()\n",
    "print(\"Missing value :\" , x)\n",
    "del my_df2['ProsperRating (Alpha)']\n",
    "print(my_df2.head(5)) "
   ]
  },
  {
   "cell_type": "markdown",
   "metadata": {},
   "source": [
    "<h4 class=\"list-group-item list-group-item-action active\" >3. UNIVARIATE ANALYSIS</h4>\n",
    "\n",
    ">#### A. What are the main features of interest in your dataset?\n",
    "\n",
    "    Step1: Apply Univariate analysis using suitable charts for[ Loan status, Employment Status, Stated Monthly Income]\n",
    "\n",
    "    Step2: Check if any column distribution skew or not.\n",
    "\n",
    "    Step3: Write at least 2 observations for each visualization.\n",
    "\n",
    "\n"
   ]
  },
  {
   "cell_type": "code",
   "execution_count": 19,
   "metadata": {},
   "outputs": [
    {
     "name": "stderr",
     "output_type": "stream",
     "text": [
      "C:\\Users\\U380969\\Anaconda3\\lib\\site-packages\\seaborn\\_decorators.py:36: FutureWarning: Pass the following variable as a keyword arg: x. From version 0.12, the only valid positional argument will be `data`, and passing other arguments without an explicit keyword will result in an error or misinterpretation.\n",
      "  warnings.warn(\n"
     ]
    },
    {
     "data": {
      "text/plain": [
       "(array([0, 1, 2, 3, 4, 5, 6, 7, 8]),\n",
       " [Text(0, 0, 'Completed'),\n",
       "  Text(1, 0, 'Current'),\n",
       "  Text(2, 0, 'Past Due (1-15 days)'),\n",
       "  Text(3, 0, 'Defaulted'),\n",
       "  Text(4, 0, 'Chargedoff'),\n",
       "  Text(5, 0, 'Past Due (16-30 days)'),\n",
       "  Text(6, 0, 'Cancelled'),\n",
       "  Text(7, 0, 'Past Due (61-90 days)'),\n",
       "  Text(8, 0, 'Past Due (31-60 days)')])"
      ]
     },
     "execution_count": 19,
     "metadata": {},
     "output_type": "execute_result"
    },
    {
     "data": {
      "image/png": "[encoded data removed]",
      "text/plain": [
       "<Figure size 864x576 with 1 Axes>"
      ]
     },
     "metadata": {
      "needs_background": "light"
     },
     "output_type": "display_data"
    }
   ],
   "source": [
    "#STEP-1:\n",
    "plt.figure(figsize=(12,8))\n",
    "sns.countplot(my_df2['LoanStatus'])\n",
    "plt.xticks(rotation=90)"
   ]
  },
  {
   "cell_type": "code",
   "execution_count": 20,
   "metadata": {},
   "outputs": [
    {
     "name": "stderr",
     "output_type": "stream",
     "text": [
      "C:\\Users\\U380969\\Anaconda3\\lib\\site-packages\\seaborn\\_decorators.py:36: FutureWarning: Pass the following variable as a keyword arg: x. From version 0.12, the only valid positional argument will be `data`, and passing other arguments without an explicit keyword will result in an error or misinterpretation.\n",
      "  warnings.warn(\n"
     ]
    },
    {
     "data": {
      "text/plain": [
       "(array([0, 1, 2, 3, 4, 5, 6, 7]),\n",
       " [Text(0, 0, 'Self-employed'),\n",
       "  Text(1, 0, 'Employed'),\n",
       "  Text(2, 0, 'Not available'),\n",
       "  Text(3, 0, 'Full-time'),\n",
       "  Text(4, 0, 'Other'),\n",
       "  Text(5, 0, 'Not employed'),\n",
       "  Text(6, 0, 'Part-time'),\n",
       "  Text(7, 0, 'Retired')])"
      ]
     },
     "execution_count": 20,
     "metadata": {},
     "output_type": "execute_result"
    },
    {
     "data": {
      "image/png": "[encoded data removed]",
      "text/plain": [
       "<Figure size 864x576 with 1 Axes>"
      ]
     },
     "metadata": {
      "needs_background": "light"
     },
     "output_type": "display_data"
    }
   ],
   "source": [
    "plt.figure(figsize=(12,8))\n",
    "sns.countplot(my_df2['EmploymentStatus'])\n",
    "plt.xticks(rotation=90)"
   ]
  },
  {
   "cell_type": "code",
   "execution_count": 21,
   "metadata": {},
   "outputs": [
    {
     "data": {
      "text/plain": [
       "<AxesSubplot:ylabel='StatedMonthlyIncome'>"
      ]
     },
     "execution_count": 21,
     "metadata": {},
     "output_type": "execute_result"
    },
    {
     "data": {
      "image/png": "[encoded data removed]",
      "text/plain": [
       "<Figure size 432x288 with 1 Axes>"
      ]
     },
     "metadata": {
      "needs_background": "light"
     },
     "output_type": "display_data"
    }
   ],
   "source": [
    "sns.barplot(y = 'StatedMonthlyIncome' ,data = my_df2)"
   ]
  },
  {
   "cell_type": "code",
   "execution_count": 23,
   "metadata": {},
   "outputs": [
    {
     "name": "stdout",
     "output_type": "stream",
     "text": [
      "Skew value for all columns:\n"
     ]
    },
    {
     "data": {
      "text/plain": [
       "Term                          1.044179\n",
       "BorrowerAPR                   0.267334\n",
       "BorrowerRate                  0.314124\n",
       "LenderYield                   0.331794\n",
       "ProsperScore                  0.149154\n",
       "ListingCategory (numeric)     2.277709\n",
       "AmountDelinquent             15.554333\n",
       "StatedMonthlyIncome           3.225084\n",
       "LoanCurrentDaysDelinquent     3.694044\n",
       "LoanOriginalAmount            1.180358\n",
       "MonthlyLoanPayment            1.247707\n",
       "LP_InterestandFees            2.345340\n",
       "Investors                     2.303866\n",
       "dtype: float64"
      ]
     },
     "execution_count": 23,
     "metadata": {},
     "output_type": "execute_result"
    }
   ],
   "source": [
    "#STEP-2:\n",
    "print(\"Skew value for all columns:\")\n",
    "my_df2.skew()"
   ]
  },
  {
   "cell_type": "code",
   "execution_count": null,
   "metadata": {},
   "outputs": [],
   "source": [
    "#STEP-3:\n",
    "\n",
    "#From the above detail, we can see that AmountDelinquent has higher skew value"
   ]
  },
  {
   "cell_type": "markdown",
   "metadata": {},
   "source": [
    "<h4 class=\"list-group-item list-group-item-action active\" >4. BIVARIATE ANALYSIS</h4>\n",
    "\n",
    ">#### A. Check the correlation matrix for all numeric variables. Maintain the Strong positive and Negative correlations columns.\n",
    ">#### B. Check the relation between `LoanOriginalAmount` and `BorrowerAPR` columns. \n",
    "\n",
    "    Step1: Use subplots. \n",
    "    \n",
    "        Plot1: Scatter Plot of LoanOriginalAmount and BorrowerAPR columns    \n",
    "\n",
    "        Plot2: HeatMap of LoanOriginalAmount and BorrowerAPR\n",
    "        \n",
    "    Step2: Write your observations.         \n",
    "        \n",
    ">#### C.Display the seperate box plot for `y = BorrowerAPR`  with x1 = `LoanStatus`, x2 = `EmploymentStatus` columns.Write your observations. \n"
   ]
  },
  {
   "cell_type": "code",
   "execution_count": 24,
   "metadata": {},
   "outputs": [
    {
     "data": {
      "text/html": [
       "<div>\n",
       "<style scoped>\n",
       "    .dataframe tbody tr th:only-of-type {\n",
       "        vertical-align: middle;\n",
       "    }\n",
       "\n",
       "    .dataframe tbody tr th {\n",
       "        vertical-align: top;\n",
       "    }\n",
       "\n",
       "    .dataframe thead th {\n",
       "        text-align: right;\n",
       "    }\n",
       "</style>\n",
       "<table border=\"1\" class=\"dataframe\">\n",
       "  <thead>\n",
       "    <tr style=\"text-align: right;\">\n",
       "      <th></th>\n",
       "      <th>Term</th>\n",
       "      <th>BorrowerAPR</th>\n",
       "      <th>BorrowerRate</th>\n",
       "      <th>LenderYield</th>\n",
       "      <th>ProsperScore</th>\n",
       "      <th>ListingCategory (numeric)</th>\n",
       "      <th>AmountDelinquent</th>\n",
       "      <th>StatedMonthlyIncome</th>\n",
       "      <th>LoanCurrentDaysDelinquent</th>\n",
       "      <th>LoanOriginalAmount</th>\n",
       "      <th>MonthlyLoanPayment</th>\n",
       "      <th>LP_InterestandFees</th>\n",
       "      <th>Investors</th>\n",
       "    </tr>\n",
       "  </thead>\n",
       "  <tbody>\n",
       "    <tr>\n",
       "      <th>Term</th>\n",
       "      <td>1.000000</td>\n",
       "      <td>-0.044058</td>\n",
       "      <td>-0.014094</td>\n",
       "      <td>-0.013188</td>\n",
       "      <td>0.090518</td>\n",
       "      <td>-0.036781</td>\n",
       "      <td>-0.058617</td>\n",
       "      <td>0.105244</td>\n",
       "      <td>-0.126056</td>\n",
       "      <td>0.355824</td>\n",
       "      <td>0.104524</td>\n",
       "      <td>0.108435</td>\n",
       "      <td>-0.074994</td>\n",
       "    </tr>\n",
       "    <tr>\n",
       "      <th>BorrowerAPR</th>\n",
       "      <td>-0.044058</td>\n",
       "      <td>1.000000</td>\n",
       "      <td>0.989962</td>\n",
       "      <td>0.989498</td>\n",
       "      <td>-0.640320</td>\n",
       "      <td>0.173637</td>\n",
       "      <td>0.029008</td>\n",
       "      <td>-0.199210</td>\n",
       "      <td>0.108360</td>\n",
       "      <td>-0.305032</td>\n",
       "      <td>-0.202339</td>\n",
       "      <td>0.176953</td>\n",
       "      <td>-0.282639</td>\n",
       "    </tr>\n",
       "    <tr>\n",
       "      <th>BorrowerRate</th>\n",
       "      <td>-0.014094</td>\n",
       "      <td>0.989962</td>\n",
       "      <td>1.000000</td>\n",
       "      <td>0.998986</td>\n",
       "      <td>-0.619934</td>\n",
       "      <td>0.139176</td>\n",
       "      <td>0.019442</td>\n",
       "      <td>-0.214624</td>\n",
       "      <td>0.155858</td>\n",
       "      <td>-0.312473</td>\n",
       "      <td>-0.220645</td>\n",
       "      <td>0.210123</td>\n",
       "      <td>-0.251938</td>\n",
       "    </tr>\n",
       "    <tr>\n",
       "      <th>LenderYield</th>\n",
       "      <td>-0.013188</td>\n",
       "      <td>0.989498</td>\n",
       "      <td>0.998986</td>\n",
       "      <td>1.000000</td>\n",
       "      <td>-0.619934</td>\n",
       "      <td>0.141883</td>\n",
       "      <td>0.019392</td>\n",
       "      <td>-0.211835</td>\n",
       "      <td>0.152973</td>\n",
       "      <td>-0.311028</td>\n",
       "      <td>-0.219325</td>\n",
       "      <td>0.210511</td>\n",
       "      <td>-0.251405</td>\n",
       "    </tr>\n",
       "    <tr>\n",
       "      <th>ProsperScore</th>\n",
       "      <td>0.090518</td>\n",
       "      <td>-0.640320</td>\n",
       "      <td>-0.619934</td>\n",
       "      <td>-0.619934</td>\n",
       "      <td>1.000000</td>\n",
       "      <td>-0.041906</td>\n",
       "      <td>-0.062707</td>\n",
       "      <td>0.199536</td>\n",
       "      <td>-0.072170</td>\n",
       "      <td>0.245904</td>\n",
       "      <td>0.144268</td>\n",
       "      <td>0.016248</td>\n",
       "      <td>0.311131</td>\n",
       "    </tr>\n",
       "    <tr>\n",
       "      <th>ListingCategory (numeric)</th>\n",
       "      <td>-0.036781</td>\n",
       "      <td>0.173637</td>\n",
       "      <td>0.139176</td>\n",
       "      <td>0.141883</td>\n",
       "      <td>-0.041906</td>\n",
       "      <td>1.000000</td>\n",
       "      <td>0.082391</td>\n",
       "      <td>-0.028607</td>\n",
       "      <td>-0.100537</td>\n",
       "      <td>-0.149829</td>\n",
       "      <td>-0.132172</td>\n",
       "      <td>-0.011305</td>\n",
       "      <td>-0.067928</td>\n",
       "    </tr>\n",
       "    <tr>\n",
       "      <th>AmountDelinquent</th>\n",
       "      <td>-0.058617</td>\n",
       "      <td>0.029008</td>\n",
       "      <td>0.019442</td>\n",
       "      <td>0.019392</td>\n",
       "      <td>-0.062707</td>\n",
       "      <td>0.082391</td>\n",
       "      <td>1.000000</td>\n",
       "      <td>-0.013594</td>\n",
       "      <td>0.010723</td>\n",
       "      <td>-0.068893</td>\n",
       "      <td>-0.059737</td>\n",
       "      <td>-0.059239</td>\n",
       "      <td>-0.055755</td>\n",
       "    </tr>\n",
       "    <tr>\n",
       "      <th>StatedMonthlyIncome</th>\n",
       "      <td>0.105244</td>\n",
       "      <td>-0.199210</td>\n",
       "      <td>-0.214624</td>\n",
       "      <td>-0.211835</td>\n",
       "      <td>0.199536</td>\n",
       "      <td>-0.028607</td>\n",
       "      <td>-0.013594</td>\n",
       "      <td>1.000000</td>\n",
       "      <td>-0.057888</td>\n",
       "      <td>0.432787</td>\n",
       "      <td>0.405985</td>\n",
       "      <td>0.119956</td>\n",
       "      <td>0.113668</td>\n",
       "    </tr>\n",
       "    <tr>\n",
       "      <th>LoanCurrentDaysDelinquent</th>\n",
       "      <td>-0.126056</td>\n",
       "      <td>0.108360</td>\n",
       "      <td>0.155858</td>\n",
       "      <td>0.152973</td>\n",
       "      <td>-0.072170</td>\n",
       "      <td>-0.100537</td>\n",
       "      <td>0.010723</td>\n",
       "      <td>-0.057888</td>\n",
       "      <td>1.000000</td>\n",
       "      <td>-0.065866</td>\n",
       "      <td>-0.020760</td>\n",
       "      <td>0.080106</td>\n",
       "      <td>0.092322</td>\n",
       "    </tr>\n",
       "    <tr>\n",
       "      <th>LoanOriginalAmount</th>\n",
       "      <td>0.355824</td>\n",
       "      <td>-0.305032</td>\n",
       "      <td>-0.312473</td>\n",
       "      <td>-0.311028</td>\n",
       "      <td>0.245904</td>\n",
       "      <td>-0.149829</td>\n",
       "      <td>-0.068893</td>\n",
       "      <td>0.432787</td>\n",
       "      <td>-0.065866</td>\n",
       "      <td>1.000000</td>\n",
       "      <td>0.938081</td>\n",
       "      <td>0.376891</td>\n",
       "      <td>0.367847</td>\n",
       "    </tr>\n",
       "    <tr>\n",
       "      <th>MonthlyLoanPayment</th>\n",
       "      <td>0.104524</td>\n",
       "      <td>-0.202339</td>\n",
       "      <td>-0.220645</td>\n",
       "      <td>-0.219325</td>\n",
       "      <td>0.144268</td>\n",
       "      <td>-0.132172</td>\n",
       "      <td>-0.059737</td>\n",
       "      <td>0.405985</td>\n",
       "      <td>-0.020760</td>\n",
       "      <td>0.938081</td>\n",
       "      <td>1.000000</td>\n",
       "      <td>0.424808</td>\n",
       "      <td>0.378563</td>\n",
       "    </tr>\n",
       "    <tr>\n",
       "      <th>LP_InterestandFees</th>\n",
       "      <td>0.108435</td>\n",
       "      <td>0.176953</td>\n",
       "      <td>0.210123</td>\n",
       "      <td>0.210511</td>\n",
       "      <td>0.016248</td>\n",
       "      <td>-0.011305</td>\n",
       "      <td>-0.059239</td>\n",
       "      <td>0.119956</td>\n",
       "      <td>0.080106</td>\n",
       "      <td>0.376891</td>\n",
       "      <td>0.424808</td>\n",
       "      <td>1.000000</td>\n",
       "      <td>0.421257</td>\n",
       "    </tr>\n",
       "    <tr>\n",
       "      <th>Investors</th>\n",
       "      <td>-0.074994</td>\n",
       "      <td>-0.282639</td>\n",
       "      <td>-0.251938</td>\n",
       "      <td>-0.251405</td>\n",
       "      <td>0.311131</td>\n",
       "      <td>-0.067928</td>\n",
       "      <td>-0.055755</td>\n",
       "      <td>0.113668</td>\n",
       "      <td>0.092322</td>\n",
       "      <td>0.367847</td>\n",
       "      <td>0.378563</td>\n",
       "      <td>0.421257</td>\n",
       "      <td>1.000000</td>\n",
       "    </tr>\n",
       "  </tbody>\n",
       "</table>\n",
       "</div>"
      ],
      "text/plain": [
       "                               Term  BorrowerAPR  BorrowerRate  LenderYield  \\\n",
       "Term                       1.000000    -0.044058     -0.014094    -0.013188   \n",
       "BorrowerAPR               -0.044058     1.000000      0.989962     0.989498   \n",
       "BorrowerRate              -0.014094     0.989962      1.000000     0.998986   \n",
       "LenderYield               -0.013188     0.989498      0.998986     1.000000   \n",
       "ProsperScore               0.090518    -0.640320     -0.619934    -0.619934   \n",
       "ListingCategory (numeric) -0.036781     0.173637      0.139176     0.141883   \n",
       "AmountDelinquent          -0.058617     0.029008      0.019442     0.019392   \n",
       "StatedMonthlyIncome        0.105244    -0.199210     -0.214624    -0.211835   \n",
       "LoanCurrentDaysDelinquent -0.126056     0.108360      0.155858     0.152973   \n",
       "LoanOriginalAmount         0.355824    -0.305032     -0.312473    -0.311028   \n",
       "MonthlyLoanPayment         0.104524    -0.202339     -0.220645    -0.219325   \n",
       "LP_InterestandFees         0.108435     0.176953      0.210123     0.210511   \n",
       "Investors                 -0.074994    -0.282639     -0.251938    -0.251405   \n",
       "\n",
       "                           ProsperScore  ListingCategory (numeric)  \\\n",
       "Term                           0.090518                  -0.036781   \n",
       "BorrowerAPR                   -0.640320                   0.173637   \n",
       "BorrowerRate                  -0.619934                   0.139176   \n",
       "LenderYield                   -0.619934                   0.141883   \n",
       "ProsperScore                   1.000000                  -0.041906   \n",
       "ListingCategory (numeric)     -0.041906                   1.000000   \n",
       "AmountDelinquent              -0.062707                   0.082391   \n",
       "StatedMonthlyIncome            0.199536                  -0.028607   \n",
       "LoanCurrentDaysDelinquent     -0.072170                  -0.100537   \n",
       "LoanOriginalAmount             0.245904                  -0.149829   \n",
       "MonthlyLoanPayment             0.144268                  -0.132172   \n",
       "LP_InterestandFees             0.016248                  -0.011305   \n",
       "Investors                      0.311131                  -0.067928   \n",
       "\n",
       "                           AmountDelinquent  StatedMonthlyIncome  \\\n",
       "Term                              -0.058617             0.105244   \n",
       "BorrowerAPR                        0.029008            -0.199210   \n",
       "BorrowerRate                       0.019442            -0.214624   \n",
       "LenderYield                        0.019392            -0.211835   \n",
       "ProsperScore                      -0.062707             0.199536   \n",
       "ListingCategory (numeric)          0.082391            -0.028607   \n",
       "AmountDelinquent                   1.000000            -0.013594   \n",
       "StatedMonthlyIncome               -0.013594             1.000000   \n",
       "LoanCurrentDaysDelinquent          0.010723            -0.057888   \n",
       "LoanOriginalAmount                -0.068893             0.432787   \n",
       "MonthlyLoanPayment                -0.059737             0.405985   \n",
       "LP_InterestandFees                -0.059239             0.119956   \n",
       "Investors                         -0.055755             0.113668   \n",
       "\n",
       "                           LoanCurrentDaysDelinquent  LoanOriginalAmount  \\\n",
       "Term                                       -0.126056            0.355824   \n",
       "BorrowerAPR                                 0.108360           -0.305032   \n",
       "BorrowerRate                                0.155858           -0.312473   \n",
       "LenderYield                                 0.152973           -0.311028   \n",
       "ProsperScore                               -0.072170            0.245904   \n",
       "ListingCategory (numeric)                  -0.100537           -0.149829   \n",
       "AmountDelinquent                            0.010723           -0.068893   \n",
       "StatedMonthlyIncome                        -0.057888            0.432787   \n",
       "LoanCurrentDaysDelinquent                   1.000000           -0.065866   \n",
       "LoanOriginalAmount                         -0.065866            1.000000   \n",
       "MonthlyLoanPayment                         -0.020760            0.938081   \n",
       "LP_InterestandFees                          0.080106            0.376891   \n",
       "Investors                                   0.092322            0.367847   \n",
       "\n",
       "                           MonthlyLoanPayment  LP_InterestandFees  Investors  \n",
       "Term                                 0.104524            0.108435  -0.074994  \n",
       "BorrowerAPR                         -0.202339            0.176953  -0.282639  \n",
       "BorrowerRate                        -0.220645            0.210123  -0.251938  \n",
       "LenderYield                         -0.219325            0.210511  -0.251405  \n",
       "ProsperScore                         0.144268            0.016248   0.311131  \n",
       "ListingCategory (numeric)           -0.132172           -0.011305  -0.067928  \n",
       "AmountDelinquent                    -0.059737           -0.059239  -0.055755  \n",
       "StatedMonthlyIncome                  0.405985            0.119956   0.113668  \n",
       "LoanCurrentDaysDelinquent           -0.020760            0.080106   0.092322  \n",
       "LoanOriginalAmount                   0.938081            0.376891   0.367847  \n",
       "MonthlyLoanPayment                   1.000000            0.424808   0.378563  \n",
       "LP_InterestandFees                   0.424808            1.000000   0.421257  \n",
       "Investors                            0.378563            0.421257   1.000000  "
      ]
     },
     "execution_count": 24,
     "metadata": {},
     "output_type": "execute_result"
    }
   ],
   "source": [
    "#STEP-1:\n",
    "my_df2.corr()"
   ]
  },
  {
   "cell_type": "code",
   "execution_count": 25,
   "metadata": {},
   "outputs": [
    {
     "data": {
      "text/plain": [
       "<AxesSubplot:xlabel='LoanOriginalAmount', ylabel='BorrowerAPR'>"
      ]
     },
     "execution_count": 25,
     "metadata": {},
     "output_type": "execute_result"
    },
    {
     "data": {
      "image/png": "[encoded data removed]",
      "text/plain": [
       "<Figure size 432x288 with 1 Axes>"
      ]
     },
     "metadata": {
      "needs_background": "light"
     },
     "output_type": "display_data"
    }
   ],
   "source": [
    "# B).Plot-1:\n",
    "sns.scatterplot(x='LoanOriginalAmount' , y ='BorrowerAPR' , data =my_df2)"
   ]
  },
  {
   "cell_type": "code",
   "execution_count": 26,
   "metadata": {},
   "outputs": [
    {
     "data": {
      "image/png": "[encoded data removed]",
      "text/plain": [
       "<Figure size 360x360 with 2 Axes>"
      ]
     },
     "metadata": {
      "needs_background": "light"
     },
     "output_type": "display_data"
    }
   ],
   "source": [
    "# B).Plot-2:\n",
    "plt.figure(figsize=(5,5))\n",
    "sns.heatmap(my_df2.corr())\n",
    "plt.show()"
   ]
  },
  {
   "cell_type": "code",
   "execution_count": 27,
   "metadata": {},
   "outputs": [
    {
     "data": {
      "text/plain": [
       "<AxesSubplot:xlabel='LoanStatus', ylabel='BorrowerAPR'>"
      ]
     },
     "execution_count": 27,
     "metadata": {},
     "output_type": "execute_result"
    },
    {
     "data": {
      "image/png": "[encoded data removed]",
      "text/plain": [
       "<Figure size 432x288 with 1 Axes>"
      ]
     },
     "metadata": {
      "needs_background": "light"
     },
     "output_type": "display_data"
    }
   ],
   "source": [
    "#C)\n",
    "sns.boxplot(x ='LoanStatus' ,y ='BorrowerAPR' , data=my_df2)"
   ]
  },
  {
   "cell_type": "code",
   "execution_count": 28,
   "metadata": {},
   "outputs": [
    {
     "data": {
      "text/plain": [
       "<AxesSubplot:xlabel='EmploymentStatus', ylabel='BorrowerAPR'>"
      ]
     },
     "execution_count": 28,
     "metadata": {},
     "output_type": "execute_result"
    },
    {
     "data": {
      "image/png": "[encoded data removed]",
      "text/plain": [
       "<Figure size 432x288 with 1 Axes>"
      ]
     },
     "metadata": {
      "needs_background": "light"
     },
     "output_type": "display_data"
    }
   ],
   "source": [
    "sns.boxplot(x ='EmploymentStatus' ,y ='BorrowerAPR' , data=my_df2)"
   ]
  },
  {
   "cell_type": "markdown",
   "metadata": {},
   "source": [
    "<h4 class=\"list-group-item list-group-item-action active\" >5.  MULTI VARIATE ANALYSIS, FEATURE ENGINEERING</h4>\n",
    "\n",
    ">#### A. Write a program\n",
    "\n",
    "    Step 1: Create a  condition = 'LoanStatus'== 'Completed'| 'LoanStatus' == 'Defaulted' |\\'LoanStatus' == 'Chargedoff'\n",
    "\n",
    "    Step2: Create a user define function  using condition and `LoanStatus` column.\n",
    "\n",
    "    Hint: df['LoanStatus'] = df.apply(user define function , axis=1)\n",
    "    \n",
    "        Sample output : \n",
    "        \n",
    "        \n",
    "        Completed    168\n",
    "        \n",
    "        Defaulted     59\n",
    "\n",
    "\n",
    ">#### B. Write a program\n",
    "\n",
    "    Step 1: Create a  dictionary called categories = 1: 'Debt Consolidation', 2: 'Home Improvement', 3: 'Business', 6: 'Auto', 7: 'Other'\n",
    "\n",
    "    Step2: Create a user define function  using categories and `ListingCategory (numeric)` column.\n",
    "\n",
    "    Hint: df['ListingCategory (numeric)'] = df.apply(user define function , axis=1)\n",
    "    \n",
    "        Sample output : \n",
    "        \n",
    "        \n",
    "        Debt Consolidation    106\n",
    "\n",
    "        Other                  65\n",
    "\n",
    "        Business               25\n",
    "\n",
    "        Home Improvement       22\n",
    "\n",
    "        Auto                    9\n",
    "\n",
    ">#### C. Display the box plot for `ProsperRating (Alpha)` vs `LoanOriginalAmount` and hue = `Loan Status`[Completed,Defaulted]. Write your observations.\n",
    "\n",
    ">#### D. Display the catplot for `ProsperRating (Alpha)` vs `ListingCategory (numeric)`[Debt Consolidation,Other,Business,Home Improvement,Auto] and hue = `Loan Status`[Completed,Defaulted]. Write your observations."
   ]
  },
  {
   "cell_type": "code",
   "execution_count": 31,
   "metadata": {},
   "outputs": [
    {
     "name": "stdout",
     "output_type": "stream",
     "text": [
      "Completed 289\n",
      "\n",
      "Defaulted 126\n",
      "\n"
     ]
    }
   ],
   "source": [
    "#A).Step-1:\n",
    "def LoanStat(n):\n",
    "    if np.nan not in list(n):\n",
    "        if list(n)[2]=='Chargedoff':\n",
    "            return 'Defaulted'\n",
    "        else:\n",
    "            return list(n)[2]\n",
    "x = my_df2.apply(LoanStat,axis=1) \n",
    "y=x.value_counts()\n",
    "\n",
    "for i in range(len(y)):\n",
    "    print(y.index[i],y[i],sep=' ',end='\\n\\n')"
   ]
  },
  {
   "cell_type": "code",
   "execution_count": 34,
   "metadata": {},
   "outputs": [
    {
     "data": {
      "text/plain": [
       "Debt Consolidation    525\n",
       "Other                  93\n",
       "Home Improvement       74\n",
       "Business               54\n",
       "Auto                   23\n",
       "Name: ListingCategory (numeric), dtype: int64"
      ]
     },
     "execution_count": 34,
     "metadata": {},
     "output_type": "execute_result"
    }
   ],
   "source": [
    "#Step-2:\n",
    "freddie = {1: 'Debt Consolidation', 2: 'Home Improvement', 3: 'Business', 6: 'Auto', 7: 'Other'}\n",
    "my_df2['ListingCategory (numeric)'].map(freddie).value_counts()"
   ]
  },
  {
   "cell_type": "code",
   "execution_count": 35,
   "metadata": {},
   "outputs": [
    {
     "data": {
      "text/html": [
       "<div>\n",
       "<style scoped>\n",
       "    .dataframe tbody tr th:only-of-type {\n",
       "        vertical-align: middle;\n",
       "    }\n",
       "\n",
       "    .dataframe tbody tr th {\n",
       "        vertical-align: top;\n",
       "    }\n",
       "\n",
       "    .dataframe thead th {\n",
       "        text-align: right;\n",
       "    }\n",
       "</style>\n",
       "<table border=\"1\" class=\"dataframe\">\n",
       "  <thead>\n",
       "    <tr style=\"text-align: right;\">\n",
       "      <th></th>\n",
       "      <th>ListingCreationDate</th>\n",
       "      <th>Term</th>\n",
       "      <th>LoanStatus</th>\n",
       "      <th>ClosedDate</th>\n",
       "      <th>BorrowerAPR</th>\n",
       "      <th>BorrowerRate</th>\n",
       "      <th>LenderYield</th>\n",
       "      <th>ProsperScore</th>\n",
       "      <th>ListingCategory (numeric)</th>\n",
       "      <th>BorrowerState</th>\n",
       "      <th>...</th>\n",
       "      <th>EmploymentStatus</th>\n",
       "      <th>AmountDelinquent</th>\n",
       "      <th>StatedMonthlyIncome</th>\n",
       "      <th>LoanCurrentDaysDelinquent</th>\n",
       "      <th>LoanOriginalAmount</th>\n",
       "      <th>LoanOriginationDate</th>\n",
       "      <th>LoanOriginationQuarter</th>\n",
       "      <th>MonthlyLoanPayment</th>\n",
       "      <th>LP_InterestandFees</th>\n",
       "      <th>Investors</th>\n",
       "    </tr>\n",
       "  </thead>\n",
       "  <tbody>\n",
       "    <tr>\n",
       "      <th>0</th>\n",
       "      <td>2007-08-26 19:09:29.263000000</td>\n",
       "      <td>36</td>\n",
       "      <td>Completed</td>\n",
       "      <td>14-08-2009 0.00</td>\n",
       "      <td>0.16516</td>\n",
       "      <td>0.1580</td>\n",
       "      <td>0.1380</td>\n",
       "      <td>NaN</td>\n",
       "      <td>0</td>\n",
       "      <td>CO</td>\n",
       "      <td>...</td>\n",
       "      <td>Self-employed</td>\n",
       "      <td>472.0</td>\n",
       "      <td>3083.333333</td>\n",
       "      <td>0</td>\n",
       "      <td>9425</td>\n",
       "      <td>12-09-2007 0.00</td>\n",
       "      <td>Q3 2007</td>\n",
       "      <td>330.43</td>\n",
       "      <td>1971.14</td>\n",
       "      <td>258</td>\n",
       "    </tr>\n",
       "    <tr>\n",
       "      <th>1</th>\n",
       "      <td>2007-01-05 15:00:47.090000000</td>\n",
       "      <td>36</td>\n",
       "      <td>Completed</td>\n",
       "      <td>17-12-2009 0.00</td>\n",
       "      <td>0.28269</td>\n",
       "      <td>0.2750</td>\n",
       "      <td>0.2400</td>\n",
       "      <td>NaN</td>\n",
       "      <td>0</td>\n",
       "      <td>GA</td>\n",
       "      <td>...</td>\n",
       "      <td>Not available</td>\n",
       "      <td>NaN</td>\n",
       "      <td>2083.333333</td>\n",
       "      <td>0</td>\n",
       "      <td>3001</td>\n",
       "      <td>17-01-2007 0.00</td>\n",
       "      <td>Q1 2007</td>\n",
       "      <td>123.32</td>\n",
       "      <td>1185.63</td>\n",
       "      <td>41</td>\n",
       "    </tr>\n",
       "    <tr>\n",
       "      <th>2</th>\n",
       "      <td>2007-10-09 20:28:33.640000000</td>\n",
       "      <td>36</td>\n",
       "      <td>Completed</td>\n",
       "      <td>07-01-2008 0.00</td>\n",
       "      <td>0.15033</td>\n",
       "      <td>0.1325</td>\n",
       "      <td>0.1225</td>\n",
       "      <td>NaN</td>\n",
       "      <td>0</td>\n",
       "      <td>NaN</td>\n",
       "      <td>...</td>\n",
       "      <td>Full-time</td>\n",
       "      <td>2224.0</td>\n",
       "      <td>1666.666667</td>\n",
       "      <td>0</td>\n",
       "      <td>1000</td>\n",
       "      <td>18-10-2007 0.00</td>\n",
       "      <td>Q4 2007</td>\n",
       "      <td>33.81</td>\n",
       "      <td>11.65</td>\n",
       "      <td>53</td>\n",
       "    </tr>\n",
       "    <tr>\n",
       "      <th>3</th>\n",
       "      <td>2007-11-30 20:33:49.227000000</td>\n",
       "      <td>36</td>\n",
       "      <td>Completed</td>\n",
       "      <td>12-12-2010 0.00</td>\n",
       "      <td>0.21488</td>\n",
       "      <td>0.2075</td>\n",
       "      <td>0.1975</td>\n",
       "      <td>NaN</td>\n",
       "      <td>0</td>\n",
       "      <td>MI</td>\n",
       "      <td>...</td>\n",
       "      <td>Full-time</td>\n",
       "      <td>5200.0</td>\n",
       "      <td>3750.000000</td>\n",
       "      <td>0</td>\n",
       "      <td>3000</td>\n",
       "      <td>12-12-2007 0.00</td>\n",
       "      <td>Q4 2007</td>\n",
       "      <td>112.64</td>\n",
       "      <td>1061.05</td>\n",
       "      <td>53</td>\n",
       "    </tr>\n",
       "    <tr>\n",
       "      <th>4</th>\n",
       "      <td>2013-02-12 18:07:31.690000000</td>\n",
       "      <td>60</td>\n",
       "      <td>Completed</td>\n",
       "      <td>22-10-2013 0.00</td>\n",
       "      <td>0.30748</td>\n",
       "      <td>0.2809</td>\n",
       "      <td>0.2709</td>\n",
       "      <td>3.0</td>\n",
       "      <td>1</td>\n",
       "      <td>NY</td>\n",
       "      <td>...</td>\n",
       "      <td>Employed</td>\n",
       "      <td>0.0</td>\n",
       "      <td>3885.916667</td>\n",
       "      <td>0</td>\n",
       "      <td>4000</td>\n",
       "      <td>21-02-2013 0.00</td>\n",
       "      <td>Q1 2013</td>\n",
       "      <td>124.76</td>\n",
       "      <td>725.35</td>\n",
       "      <td>37</td>\n",
       "    </tr>\n",
       "  </tbody>\n",
       "</table>\n",
       "<p>5 rows × 21 columns</p>\n",
       "</div>"
      ],
      "text/plain": [
       "             ListingCreationDate  Term LoanStatus       ClosedDate  \\\n",
       "0  2007-08-26 19:09:29.263000000    36  Completed  14-08-2009 0.00   \n",
       "1  2007-01-05 15:00:47.090000000    36  Completed  17-12-2009 0.00   \n",
       "2  2007-10-09 20:28:33.640000000    36  Completed  07-01-2008 0.00   \n",
       "3  2007-11-30 20:33:49.227000000    36  Completed  12-12-2010 0.00   \n",
       "4  2013-02-12 18:07:31.690000000    60  Completed  22-10-2013 0.00   \n",
       "\n",
       "   BorrowerAPR  BorrowerRate  LenderYield  ProsperScore  \\\n",
       "0      0.16516        0.1580       0.1380           NaN   \n",
       "1      0.28269        0.2750       0.2400           NaN   \n",
       "2      0.15033        0.1325       0.1225           NaN   \n",
       "3      0.21488        0.2075       0.1975           NaN   \n",
       "4      0.30748        0.2809       0.2709           3.0   \n",
       "\n",
       "   ListingCategory (numeric) BorrowerState  ... EmploymentStatus  \\\n",
       "0                          0            CO  ...    Self-employed   \n",
       "1                          0            GA  ...    Not available   \n",
       "2                          0           NaN  ...        Full-time   \n",
       "3                          0            MI  ...        Full-time   \n",
       "4                          1            NY  ...         Employed   \n",
       "\n",
       "  AmountDelinquent  StatedMonthlyIncome  LoanCurrentDaysDelinquent  \\\n",
       "0            472.0          3083.333333                          0   \n",
       "1              NaN          2083.333333                          0   \n",
       "2           2224.0          1666.666667                          0   \n",
       "3           5200.0          3750.000000                          0   \n",
       "4              0.0          3885.916667                          0   \n",
       "\n",
       "   LoanOriginalAmount  LoanOriginationDate LoanOriginationQuarter  \\\n",
       "0                9425      12-09-2007 0.00                Q3 2007   \n",
       "1                3001      17-01-2007 0.00                Q1 2007   \n",
       "2                1000      18-10-2007 0.00                Q4 2007   \n",
       "3                3000      12-12-2007 0.00                Q4 2007   \n",
       "4                4000      21-02-2013 0.00                Q1 2013   \n",
       "\n",
       "  MonthlyLoanPayment  LP_InterestandFees  Investors  \n",
       "0             330.43             1971.14        258  \n",
       "1             123.32             1185.63         41  \n",
       "2              33.81               11.65         53  \n",
       "3             112.64             1061.05         53  \n",
       "4             124.76              725.35         37  \n",
       "\n",
       "[5 rows x 21 columns]"
      ]
     },
     "execution_count": 35,
     "metadata": {},
     "output_type": "execute_result"
    }
   ],
   "source": [
    "a = my_df2[my_df2['LoanStatus']=='Completed']\n",
    "b = my_df2[my_df2['LoanStatus']=='Defaulted']\n",
    "my_df3 =  pd.merge(a,b,how='outer')\n",
    "my_df3.head()"
   ]
  },
  {
   "cell_type": "code",
   "execution_count": 38,
   "metadata": {},
   "outputs": [
    {
     "data": {
      "image/png": "[encoded data removed]",
      "text/plain": [
       "<Figure size 432x288 with 1 Axes>"
      ]
     },
     "metadata": {
      "needs_background": "light"
     },
     "output_type": "display_data"
    }
   ],
   "source": [
    "#C)\n",
    "sns.boxplot(x='ProsperScore',y='LoanOriginalAmount',data=my_df3,hue='LoanStatus')\n",
    "plt.xticks(rotation=90)\n",
    "plt.show()"
   ]
  },
  {
   "cell_type": "code",
   "execution_count": 39,
   "metadata": {},
   "outputs": [
    {
     "data": {
      "image/png": "[encoded data removed]",
      "text/plain": [
       "<Figure size 450.125x360 with 1 Axes>"
      ]
     },
     "metadata": {
      "needs_background": "light"
     },
     "output_type": "display_data"
    }
   ],
   "source": [
    "#D)\n",
    "sns.catplot(y='ProsperScore',x='ListingCategory (numeric)',data=my_df3,hue='LoanStatus')\n",
    "plt.xticks(rotation=90)\n",
    "plt.show()"
   ]
  }
 ],
 "metadata": {
  "kernelspec": {
   "display_name": "Python 3",
   "language": "python",
   "name": "python3"
  },
  "language_info": {
   "codemirror_mode": {
    "name": "ipython",
    "version": 3
   },
   "file_extension": ".py",
   "mimetype": "text/x-python",
   "name": "python",
   "nbconvert_exporter": "python",
   "pygments_lexer": "ipython3",
   "version": "3.8.5"
  }
 },
 "nbformat": 4,
 "nbformat_minor": 4
}
